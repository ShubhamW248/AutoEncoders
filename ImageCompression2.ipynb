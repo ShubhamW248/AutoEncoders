{
  "nbformat": 4,
  "nbformat_minor": 0,
  "metadata": {
    "colab": {
      "provenance": [],
      "authorship_tag": "ABX9TyO0NiAU0YvccCEGLPFpRjW0",
      "include_colab_link": true
    },
    "kernelspec": {
      "name": "python3",
      "display_name": "Python 3"
    },
    "language_info": {
      "name": "python"
    }
  },
  "cells": [
    {
      "cell_type": "markdown",
      "metadata": {
        "id": "view-in-github",
        "colab_type": "text"
      },
      "source": [
        "<a href=\"https://colab.research.google.com/github/ShubhamW248/AutoEncoders/blob/main/ImageCompression2.ipynb\" target=\"_parent\"><img src=\"https://colab.research.google.com/assets/colab-badge.svg\" alt=\"Open In Colab\"/></a>"
      ]
    },
    {
      "cell_type": "code",
      "execution_count": 4,
      "metadata": {
        "id": "4QvXSVZZb_wY"
      },
      "outputs": [],
      "source": [
        "import numpy as np\n",
        "import pandas as pd\n",
        "from tensorflow.keras import Sequential, Model, layers\n",
        "from tensorflow.keras.datasets import mnist\n",
        "import tensorflow as tf\n",
        "import os\n",
        "import matplotlib as mpl\n",
        "import matplotlib.pyplot as plt\n",
        "import seaborn as sns\n",
        "import math\n"
      ]
    },
    {
      "cell_type": "code",
      "source": [
        "# Seeding random number generators to obtain reproducible results\n",
        "seed_value = 0\n",
        "os.environ[\"PYTHONHASHSEED\"]=str(seed_value)\n",
        "np.random.seed(seed_value)\n",
        "tf.random.set_seed(seed_value)\n",
        "\n",
        "# Default matplotlib font color (change this to black if you are not using dark mode)\n",
        "mpl.rcParams[\"text.color\"] = \"white\"\n"
      ],
      "metadata": {
        "id": "deTK7CBPc4tF"
      },
      "execution_count": null,
      "outputs": []
    },
    {
      "cell_type": "code",
      "source": [
        "def plot(test, encoded_representation, pred):\n",
        "    \"\"\"Plot three corresponding original, encoded and reconstructed images\"\"\"\n",
        "    fig, ax = plt.subplots(3, 3)\n",
        "\n",
        "    # Plotting parameters set to not show ticks and tick labels\n",
        "    params = {\"bottom\": False,\n",
        "              \"left\": False,\n",
        "              \"labelbottom\": False,\n",
        "              \"labelleft\": False}\n",
        "\n",
        "    ax[0, 0].title.set_text(\"Original\")\n",
        "    ax[0, 1].title.set_text(\"Encoding\")\n",
        "    ax[0, 2].title.set_text(\"Predicted\")\n",
        "\n",
        "    ax[0, 0].imshow(test[0])\n",
        "    ax[0, 0].tick_params(**params)\n",
        "    ax[0, 1].imshow(encoded_representation[0])\n",
        "    ax[0, 1].tick_params(**params)\n",
        "    ax[0, 2].imshow(pred[0])\n",
        "    ax[0, 2].tick_params(**params)\n",
        "\n",
        "    ax[1, 0].imshow(test[1])\n",
        "    ax[1, 0].tick_params(**params)\n",
        "    ax[1, 1].imshow(encoded_representation[1])\n",
        "    ax[1, 1].tick_params(**params)\n",
        "    ax[1, 2].imshow(pred[1])\n",
        "    ax[1, 2].tick_params(**params)\n",
        "\n",
        "    ax[2, 0].imshow(test[2])\n",
        "    ax[2, 0].tick_params(**params)\n",
        "    ax[2, 1].imshow(encoded_representation[2])\n",
        "    ax[2, 1].tick_params(**params)\n",
        "    ax[2, 2].imshow(pred[2])\n",
        "    ax[2, 2].tick_params(**params)\n",
        "\n",
        "    plt.tight_layout()\n",
        "    plt.show()"
      ],
      "metadata": {
        "id": "OtKsTbO6c8uv"
      },
      "execution_count": 2,
      "outputs": []
    },
    {
      "cell_type": "code",
      "source": [
        "def create_autoencoder_model(input_shape, num_bottleneck_nodes):\n",
        "    \"\"\"Create autoencoder model. Returns autoencoder model and encoder model as tuple\"\"\"\n",
        "\n",
        "    input_img = layers.Input(shape=input_shape)\n",
        "\n",
        "    encoder = layers.Dense(num_bottleneck_nodes, activation=\"relu\")(input_img)\n",
        "    encoder_model = Model(input_img, encoder)\n",
        "\n",
        "    decoder = layers.Dense(input_shape[0], activation=\"sigmoid\")(encoder)\n",
        "    autoencoder_model = Model(input_img, decoder)\n",
        "\n",
        "    autoencoder_model.compile(optimizer=tf.keras.optimizers.Adam(), loss=\"mse\")\n",
        "\n",
        "    return autoencoder_model, encoder_model\n"
      ],
      "metadata": {
        "id": "bmBRq0sBdOXr"
      },
      "execution_count": 3,
      "outputs": []
    },
    {
      "cell_type": "code",
      "source": [
        "def autoencoder_workflow(num_bottleneck_nodes, num_epochs):\n",
        "    \"\"\"Auoencoder based reconstruction workflow for MNIST data\"\"\"\n",
        "\n",
        "    # Load data\n",
        "    (train, _), (test, _) = mnist.load_data()   # Get training and test MNIST images\n",
        "\n",
        "    # Get original shape\n",
        "    original_dims = train[0].shape\n",
        "\n",
        "    # Normalize and reshape\n",
        "    train = (train.astype(np.float32) / 255).reshape((len(train), np.prod(train.shape[1:])))\n",
        "    test = (test.astype(np.float32) / 255).reshape((len(test), np.prod(test.shape[1:])))\n",
        "\n",
        "    # Get sample dimensions\n",
        "    dims = train[0].shape\n",
        "\n",
        "    # Create model\n",
        "    model, encoder = create_autoencoder_model(dims, num_bottleneck_nodes)\n",
        "\n",
        "    # Stopping criterion via early stopping\n",
        "    callback = tf.keras.callbacks.EarlyStopping(monitor=\"val_loss\", patience=4)\n",
        "\n",
        "    # Train model\n",
        "    model.fit(train,\n",
        "              train,\n",
        "              epochs=num_epochs,\n",
        "              validation_data=(test, test),\n",
        "              verbose=True,\n",
        "              callbacks=[callback])\n",
        "\n",
        "    # Predict encoded representation\n",
        "    encoded_representation = encoder.predict(test)\n",
        "\n",
        "    # Predict reconstructed image\n",
        "    pred = model.predict(test)\n",
        "\n",
        "    # Determine suiting plotting shape for encoded representation\n",
        "    if num_bottleneck_nodes % math.sqrt(num_bottleneck_nodes) == 0:\n",
        "        reshape_dim1, reshape_dim2 = np.int16(math.sqrt(num_bottleneck_nodes)), np.int16(math.sqrt(num_bottleneck_nodes))\n",
        "    elif num_bottleneck_nodes % 2 == 0:\n",
        "        reshape_dim1, reshape_dim2 = np.int16(num_bottleneck_nodes / 2), 2\n",
        "    else:\n",
        "        reshape_dim1, reshape_dim2 = 1, num_bottleneck_nodes\n",
        "\n",
        "    # Display results\n",
        "    plot(test.reshape(len(test), original_dims[0], original_dims[1]),\n",
        "         encoded_representation.reshape(len(test), reshape_dim1, reshape_dim2),\n",
        "         pred.reshape(len(test), original_dims[0], original_dims[1]))\n"
      ],
      "metadata": {
        "id": "ovz0jp1tdR09"
      },
      "execution_count": 4,
      "outputs": []
    },
    {
      "cell_type": "code",
      "source": [
        "import numpy as np\n",
        "import tensorflow as tf\n",
        "from tensorflow.keras.datasets import mnist\n",
        "import math\n",
        "\n",
        "def autoencoder_workflow(num_bottleneck_nodes, num_epochs):\n",
        "    \"\"\"Autoencoder-based reconstruction workflow for MNIST data.\"\"\"\n",
        "\n",
        "    # Load data\n",
        "    (train, _), (test, _) = mnist.load_data()   # Get training and test MNIST images\n",
        "\n",
        "    # Get original shape\n",
        "    original_dims = train[0].shape\n",
        "\n",
        "    # Normalize and reshape\n",
        "    train = (train.astype(np.float32) / 255).reshape((len(train), np.prod(train.shape[1:])))\n",
        "    test = (test.astype(np.float32) / 255).reshape((len(test), np.prod(test.shape[1:])))\n",
        "\n",
        "    # Get sample dimensions\n",
        "    dims = train[0].shape\n",
        "\n",
        "    # Create model\n",
        "    model, encoder = create_autoencoder_model(dims, num_bottleneck_nodes)\n",
        "\n",
        "    # Early stopping callback\n",
        "    early_stopping = tf.keras.callbacks.EarlyStopping(monitor=\"val_loss\", patience=4, restore_best_weights=True)\n",
        "\n",
        "    # Train model with early stopping\n",
        "    model.fit(train,\n",
        "              train,\n",
        "              epochs=num_epochs,\n",
        "              validation_data=(test, test),\n",
        "              verbose=True,\n",
        "              callbacks=[early_stopping])\n",
        "\n",
        "    # Predict encoded representation\n",
        "    encoded_representation = encoder.predict(test)\n",
        "\n",
        "    # Predict reconstructed image\n",
        "    pred = model.predict(test)\n",
        "\n",
        "    # Determine suiting plotting shape for encoded representation\n",
        "    if num_bottleneck_nodes % math.sqrt(num_bottleneck_nodes) == 0:\n",
        "        reshape_dim1, reshape_dim2 = np.int16(math.sqrt(num_bottleneck_nodes)), np.int16(math.sqrt(num_bottleneck_nodes))\n",
        "    elif num_bottleneck_nodes % 2 == 0:\n",
        "        reshape_dim1, reshape_dim2 = np.int16(num_bottleneck_nodes / 2), 2\n",
        "    else:\n",
        "        reshape_dim1, reshape_dim2 = 1, num_bottleneck_nodes\n",
        "\n",
        "    # Display results\n",
        "    plot(test.reshape(len(test), original_dims[0], original_dims[1]),\n",
        "         encoded_representation.reshape(len(test), reshape_dim1, reshape_dim2),\n",
        "         pred.reshape(len(test), original_dims[0], original_dims[1]))\n",
        "\n"
      ],
      "metadata": {
        "id": "BFctuA7kkiwz"
      },
      "execution_count": 8,
      "outputs": []
    },
    {
      "cell_type": "code",
      "source": [
        "num_epochs = 25\n"
      ],
      "metadata": {
        "id": "V6loIEW9dZwf"
      },
      "execution_count": 5,
      "outputs": []
    },
    {
      "cell_type": "code",
      "source": [
        "# Autoencoder with same number of bottleneck nodes as input image: 784\n",
        "autoencoder_workflow(784, num_epochs)\n"
      ],
      "metadata": {
        "colab": {
          "base_uri": "https://localhost:8080/",
          "height": 1000
        },
        "id": "aKrbcXSkdcQa",
        "outputId": "d160eeb6-22ac-4741-d9ea-7d2f6c78cfe4"
      },
      "execution_count": 7,
      "outputs": [
        {
          "output_type": "stream",
          "name": "stdout",
          "text": [
            "Epoch 1/25\n",
            "\u001b[1m1875/1875\u001b[0m \u001b[32m━━━━━━━━━━━━━━━━━━━━\u001b[0m\u001b[37m\u001b[0m \u001b[1m48s\u001b[0m 25ms/step - loss: 0.0207 - val_loss: 0.0022\n",
            "Epoch 2/25\n",
            "\u001b[1m1875/1875\u001b[0m \u001b[32m━━━━━━━━━━━━━━━━━━━━\u001b[0m\u001b[37m\u001b[0m \u001b[1m85s\u001b[0m 26ms/step - loss: 0.0020 - val_loss: 0.0015\n",
            "Epoch 3/25\n",
            "\u001b[1m1875/1875\u001b[0m \u001b[32m━━━━━━━━━━━━━━━━━━━━\u001b[0m\u001b[37m\u001b[0m \u001b[1m43s\u001b[0m 23ms/step - loss: 0.0014 - val_loss: 0.0012\n",
            "Epoch 4/25\n",
            "\u001b[1m1875/1875\u001b[0m \u001b[32m━━━━━━━━━━━━━━━━━━━━\u001b[0m\u001b[37m\u001b[0m \u001b[1m83s\u001b[0m 23ms/step - loss: 0.0012 - val_loss: 0.0011\n",
            "Epoch 5/25\n",
            "\u001b[1m1875/1875\u001b[0m \u001b[32m━━━━━━━━━━━━━━━━━━━━\u001b[0m\u001b[37m\u001b[0m \u001b[1m83s\u001b[0m 24ms/step - loss: 0.0010 - val_loss: 0.0010\n",
            "Epoch 6/25\n",
            "\u001b[1m1875/1875\u001b[0m \u001b[32m━━━━━━━━━━━━━━━━━━━━\u001b[0m\u001b[37m\u001b[0m \u001b[1m84s\u001b[0m 25ms/step - loss: 9.6140e-04 - val_loss: 9.4314e-04\n",
            "Epoch 7/25\n",
            "\u001b[1m1875/1875\u001b[0m \u001b[32m━━━━━━━━━━━━━━━━━━━━\u001b[0m\u001b[37m\u001b[0m \u001b[1m79s\u001b[0m 24ms/step - loss: 9.1301e-04 - val_loss: 9.1350e-04\n",
            "Epoch 8/25\n",
            "\u001b[1m1875/1875\u001b[0m \u001b[32m━━━━━━━━━━━━━━━━━━━━\u001b[0m\u001b[37m\u001b[0m \u001b[1m82s\u001b[0m 24ms/step - loss: 8.7433e-04 - val_loss: 9.4633e-04\n",
            "Epoch 9/25\n",
            "\u001b[1m1875/1875\u001b[0m \u001b[32m━━━━━━━━━━━━━━━━━━━━\u001b[0m\u001b[37m\u001b[0m \u001b[1m44s\u001b[0m 23ms/step - loss: 8.6194e-04 - val_loss: 8.9655e-04\n",
            "Epoch 10/25\n",
            "\u001b[1m1875/1875\u001b[0m \u001b[32m━━━━━━━━━━━━━━━━━━━━\u001b[0m\u001b[37m\u001b[0m \u001b[1m53s\u001b[0m 28ms/step - loss: 8.3821e-04 - val_loss: 8.6572e-04\n",
            "Epoch 11/25\n",
            "\u001b[1m1875/1875\u001b[0m \u001b[32m━━━━━━━━━━━━━━━━━━━━\u001b[0m\u001b[37m\u001b[0m \u001b[1m44s\u001b[0m 24ms/step - loss: 8.1640e-04 - val_loss: 8.5564e-04\n",
            "Epoch 12/25\n",
            "\u001b[1m1875/1875\u001b[0m \u001b[32m━━━━━━━━━━━━━━━━━━━━\u001b[0m\u001b[37m\u001b[0m \u001b[1m82s\u001b[0m 24ms/step - loss: 7.9502e-04 - val_loss: 8.4640e-04\n",
            "Epoch 13/25\n",
            "\u001b[1m1875/1875\u001b[0m \u001b[32m━━━━━━━━━━━━━━━━━━━━\u001b[0m\u001b[37m\u001b[0m \u001b[1m83s\u001b[0m 24ms/step - loss: 7.8598e-04 - val_loss: 8.4047e-04\n",
            "Epoch 14/25\n",
            "\u001b[1m1875/1875\u001b[0m \u001b[32m━━━━━━━━━━━━━━━━━━━━\u001b[0m\u001b[37m\u001b[0m \u001b[1m45s\u001b[0m 24ms/step - loss: 7.7606e-04 - val_loss: 8.3153e-04\n",
            "Epoch 15/25\n",
            "\u001b[1m1875/1875\u001b[0m \u001b[32m━━━━━━━━━━━━━━━━━━━━\u001b[0m\u001b[37m\u001b[0m \u001b[1m82s\u001b[0m 24ms/step - loss: 7.6003e-04 - val_loss: 8.2626e-04\n",
            "Epoch 16/25\n",
            "\u001b[1m1875/1875\u001b[0m \u001b[32m━━━━━━━━━━━━━━━━━━━━\u001b[0m\u001b[37m\u001b[0m \u001b[1m82s\u001b[0m 24ms/step - loss: 7.4771e-04 - val_loss: 7.9871e-04\n",
            "Epoch 17/25\n",
            "\u001b[1m1875/1875\u001b[0m \u001b[32m━━━━━━━━━━━━━━━━━━━━\u001b[0m\u001b[37m\u001b[0m \u001b[1m78s\u001b[0m 22ms/step - loss: 7.4442e-04 - val_loss: 8.0155e-04\n",
            "Epoch 18/25\n",
            "\u001b[1m1875/1875\u001b[0m \u001b[32m━━━━━━━━━━━━━━━━━━━━\u001b[0m\u001b[37m\u001b[0m \u001b[1m85s\u001b[0m 24ms/step - loss: 7.3352e-04 - val_loss: 7.8401e-04\n",
            "Epoch 19/25\n",
            "\u001b[1m1875/1875\u001b[0m \u001b[32m━━━━━━━━━━━━━━━━━━━━\u001b[0m\u001b[37m\u001b[0m \u001b[1m81s\u001b[0m 23ms/step - loss: 7.2001e-04 - val_loss: 7.8040e-04\n",
            "Epoch 20/25\n",
            "\u001b[1m1875/1875\u001b[0m \u001b[32m━━━━━━━━━━━━━━━━━━━━\u001b[0m\u001b[37m\u001b[0m \u001b[1m81s\u001b[0m 23ms/step - loss: 7.1161e-04 - val_loss: 7.7084e-04\n",
            "Epoch 21/25\n",
            "\u001b[1m1875/1875\u001b[0m \u001b[32m━━━━━━━━━━━━━━━━━━━━\u001b[0m\u001b[37m\u001b[0m \u001b[1m44s\u001b[0m 24ms/step - loss: 7.0579e-04 - val_loss: 7.8439e-04\n",
            "Epoch 22/25\n",
            "\u001b[1m1875/1875\u001b[0m \u001b[32m━━━━━━━━━━━━━━━━━━━━\u001b[0m\u001b[37m\u001b[0m \u001b[1m81s\u001b[0m 23ms/step - loss: 7.0366e-04 - val_loss: 7.6520e-04\n",
            "Epoch 23/25\n",
            "\u001b[1m1875/1875\u001b[0m \u001b[32m━━━━━━━━━━━━━━━━━━━━\u001b[0m\u001b[37m\u001b[0m \u001b[1m83s\u001b[0m 24ms/step - loss: 6.9379e-04 - val_loss: 7.6443e-04\n",
            "Epoch 24/25\n",
            "\u001b[1m1875/1875\u001b[0m \u001b[32m━━━━━━━━━━━━━━━━━━━━\u001b[0m\u001b[37m\u001b[0m \u001b[1m44s\u001b[0m 23ms/step - loss: 6.8676e-04 - val_loss: 7.1571e-04\n",
            "Epoch 25/25\n",
            "\u001b[1m1875/1875\u001b[0m \u001b[32m━━━━━━━━━━━━━━━━━━━━\u001b[0m\u001b[37m\u001b[0m \u001b[1m81s\u001b[0m 23ms/step - loss: 6.7969e-04 - val_loss: 7.7104e-04\n",
            "\u001b[1m313/313\u001b[0m \u001b[32m━━━━━━━━━━━━━━━━━━━━\u001b[0m\u001b[37m\u001b[0m \u001b[1m1s\u001b[0m 3ms/step\n",
            "\u001b[1m313/313\u001b[0m \u001b[32m━━━━━━━━━━━━━━━━━━━━\u001b[0m\u001b[37m\u001b[0m \u001b[1m2s\u001b[0m 5ms/step\n"
          ]
        },
        {
          "output_type": "display_data",
          "data": {
            "text/plain": [
              "<Figure size 640x480 with 9 Axes>"
            ],
            "image/png": "[encoded data removed]"
          },
          "metadata": {}
        }
      ]
    },
    {
      "cell_type": "code",
      "source": [
        "# Autoencoder with 32 bottleneck nodes\n",
        "autoencoder_workflow(32, num_epochs)\n"
      ],
      "metadata": {
        "colab": {
          "base_uri": "https://localhost:8080/",
          "height": 1000
        },
        "id": "a-BMEJW3deyI",
        "outputId": "c65504dd-e34f-4a7f-8778-542dc3fad355"
      },
      "execution_count": 9,
      "outputs": [
        {
          "output_type": "stream",
          "name": "stdout",
          "text": [
            "Epoch 1/25\n",
            "\u001b[1m1875/1875\u001b[0m \u001b[32m━━━━━━━━━━━━━━━━━━━━\u001b[0m\u001b[37m\u001b[0m \u001b[1m6s\u001b[0m 3ms/step - loss: 0.0529 - val_loss: 0.0165\n",
            "Epoch 2/25\n",
            "\u001b[1m1875/1875\u001b[0m \u001b[32m━━━━━━━━━━━━━━━━━━━━\u001b[0m\u001b[37m\u001b[0m \u001b[1m6s\u001b[0m 3ms/step - loss: 0.0150 - val_loss: 0.0113\n",
            "Epoch 3/25\n",
            "\u001b[1m1875/1875\u001b[0m \u001b[32m━━━━━━━━━━━━━━━━━━━━\u001b[0m\u001b[37m\u001b[0m \u001b[1m9s\u001b[0m 3ms/step - loss: 0.0113 - val_loss: 0.0104\n",
            "Epoch 4/25\n",
            "\u001b[1m1875/1875\u001b[0m \u001b[32m━━━━━━━━━━━━━━━━━━━━\u001b[0m\u001b[37m\u001b[0m \u001b[1m7s\u001b[0m 3ms/step - loss: 0.0107 - val_loss: 0.0102\n",
            "Epoch 5/25\n",
            "\u001b[1m1875/1875\u001b[0m \u001b[32m━━━━━━━━━━━━━━━━━━━━\u001b[0m\u001b[37m\u001b[0m \u001b[1m10s\u001b[0m 3ms/step - loss: 0.0105 - val_loss: 0.0100\n",
            "Epoch 6/25\n",
            "\u001b[1m1875/1875\u001b[0m \u001b[32m━━━━━━━━━━━━━━━━━━━━\u001b[0m\u001b[37m\u001b[0m \u001b[1m8s\u001b[0m 2ms/step - loss: 0.0103 - val_loss: 0.0099\n",
            "Epoch 7/25\n",
            "\u001b[1m1875/1875\u001b[0m \u001b[32m━━━━━━━━━━━━━━━━━━━━\u001b[0m\u001b[37m\u001b[0m \u001b[1m6s\u001b[0m 3ms/step - loss: 0.0103 - val_loss: 0.0100\n",
            "Epoch 8/25\n",
            "\u001b[1m1875/1875\u001b[0m \u001b[32m━━━━━━━━━━━━━━━━━━━━\u001b[0m\u001b[37m\u001b[0m \u001b[1m8s\u001b[0m 2ms/step - loss: 0.0103 - val_loss: 0.0099\n",
            "Epoch 9/25\n",
            "\u001b[1m1875/1875\u001b[0m \u001b[32m━━━━━━━━━━━━━━━━━━━━\u001b[0m\u001b[37m\u001b[0m \u001b[1m7s\u001b[0m 3ms/step - loss: 0.0102 - val_loss: 0.0099\n",
            "Epoch 10/25\n",
            "\u001b[1m1875/1875\u001b[0m \u001b[32m━━━━━━━━━━━━━━━━━━━━\u001b[0m\u001b[37m\u001b[0m \u001b[1m5s\u001b[0m 3ms/step - loss: 0.0102 - val_loss: 0.0098\n",
            "Epoch 11/25\n",
            "\u001b[1m1875/1875\u001b[0m \u001b[32m━━━━━━━━━━━━━━━━━━━━\u001b[0m\u001b[37m\u001b[0m \u001b[1m7s\u001b[0m 4ms/step - loss: 0.0101 - val_loss: 0.0098\n",
            "Epoch 12/25\n",
            "\u001b[1m1875/1875\u001b[0m \u001b[32m━━━━━━━━━━━━━━━━━━━━\u001b[0m\u001b[37m\u001b[0m \u001b[1m8s\u001b[0m 3ms/step - loss: 0.0101 - val_loss: 0.0097\n",
            "Epoch 13/25\n",
            "\u001b[1m1875/1875\u001b[0m \u001b[32m━━━━━━━━━━━━━━━━━━━━\u001b[0m\u001b[37m\u001b[0m \u001b[1m10s\u001b[0m 3ms/step - loss: 0.0101 - val_loss: 0.0098\n",
            "Epoch 14/25\n",
            "\u001b[1m1875/1875\u001b[0m \u001b[32m━━━━━━━━━━━━━━━━━━━━\u001b[0m\u001b[37m\u001b[0m \u001b[1m7s\u001b[0m 4ms/step - loss: 0.0100 - val_loss: 0.0097\n",
            "Epoch 15/25\n",
            "\u001b[1m1875/1875\u001b[0m \u001b[32m━━━━━━━━━━━━━━━━━━━━\u001b[0m\u001b[37m\u001b[0m \u001b[1m5s\u001b[0m 3ms/step - loss: 0.0100 - val_loss: 0.0097\n",
            "Epoch 16/25\n",
            "\u001b[1m1875/1875\u001b[0m \u001b[32m━━━━━━━━━━━━━━━━━━━━\u001b[0m\u001b[37m\u001b[0m \u001b[1m11s\u001b[0m 3ms/step - loss: 0.0101 - val_loss: 0.0097\n",
            "Epoch 17/25\n",
            "\u001b[1m1875/1875\u001b[0m \u001b[32m━━━━━━━━━━━━━━━━━━━━\u001b[0m\u001b[37m\u001b[0m \u001b[1m5s\u001b[0m 3ms/step - loss: 0.0100 - val_loss: 0.0097\n",
            "Epoch 18/25\n",
            "\u001b[1m1875/1875\u001b[0m \u001b[32m━━━━━━━━━━━━━━━━━━━━\u001b[0m\u001b[37m\u001b[0m \u001b[1m6s\u001b[0m 3ms/step - loss: 0.0100 - val_loss: 0.0097\n",
            "Epoch 19/25\n",
            "\u001b[1m1875/1875\u001b[0m \u001b[32m━━━━━━━━━━━━━━━━━━━━\u001b[0m\u001b[37m\u001b[0m \u001b[1m10s\u001b[0m 3ms/step - loss: 0.0100 - val_loss: 0.0097\n",
            "Epoch 20/25\n",
            "\u001b[1m1875/1875\u001b[0m \u001b[32m━━━━━━━━━━━━━━━━━━━━\u001b[0m\u001b[37m\u001b[0m \u001b[1m7s\u001b[0m 4ms/step - loss: 0.0100 - val_loss: 0.0097\n",
            "Epoch 21/25\n",
            "\u001b[1m1875/1875\u001b[0m \u001b[32m━━━━━━━━━━━━━━━━━━━━\u001b[0m\u001b[37m\u001b[0m \u001b[1m5s\u001b[0m 3ms/step - loss: 0.0100 - val_loss: 0.0097\n",
            "Epoch 22/25\n",
            "\u001b[1m1875/1875\u001b[0m \u001b[32m━━━━━━━━━━━━━━━━━━━━\u001b[0m\u001b[37m\u001b[0m \u001b[1m7s\u001b[0m 4ms/step - loss: 0.0099 - val_loss: 0.0097\n",
            "Epoch 23/25\n",
            "\u001b[1m1875/1875\u001b[0m \u001b[32m━━━━━━━━━━━━━━━━━━━━\u001b[0m\u001b[37m\u001b[0m \u001b[1m5s\u001b[0m 3ms/step - loss: 0.0099 - val_loss: 0.0096\n",
            "Epoch 24/25\n",
            "\u001b[1m1875/1875\u001b[0m \u001b[32m━━━━━━━━━━━━━━━━━━━━\u001b[0m\u001b[37m\u001b[0m \u001b[1m6s\u001b[0m 3ms/step - loss: 0.0099 - val_loss: 0.0096\n",
            "Epoch 25/25\n",
            "\u001b[1m1875/1875\u001b[0m \u001b[32m━━━━━━━━━━━━━━━━━━━━\u001b[0m\u001b[37m\u001b[0m \u001b[1m6s\u001b[0m 3ms/step - loss: 0.0099 - val_loss: 0.0097\n",
            "\u001b[1m313/313\u001b[0m \u001b[32m━━━━━━━━━━━━━━━━━━━━\u001b[0m\u001b[37m\u001b[0m \u001b[1m0s\u001b[0m 1ms/step\n",
            "\u001b[1m313/313\u001b[0m \u001b[32m━━━━━━━━━━━━━━━━━━━━\u001b[0m\u001b[37m\u001b[0m \u001b[1m1s\u001b[0m 2ms/step\n"
          ]
        },
        {
          "output_type": "display_data",
          "data": {
            "text/plain": [
              "<Figure size 640x480 with 9 Axes>"
            ],
            "image/png": "[encoded data removed]"
          },
          "metadata": {}
        }
      ]
    },
    {
      "cell_type": "code",
      "source": [
        "# Autoencoder with 16 bottleneck nodes\n",
        "autoencoder_workflow(16, num_epochs)\n"
      ],
      "metadata": {
        "colab": {
          "base_uri": "https://localhost:8080/",
          "height": 1000
        },
        "id": "tKHN9qCWeHr2",
        "outputId": "3b6694d0-c93e-49ad-c9a7-9ec25362c2fe"
      },
      "execution_count": 10,
      "outputs": [
        {
          "output_type": "stream",
          "name": "stdout",
          "text": [
            "Epoch 1/25\n",
            "\u001b[1m1875/1875\u001b[0m \u001b[32m━━━━━━━━━━━━━━━━━━━━\u001b[0m\u001b[37m\u001b[0m \u001b[1m5s\u001b[0m 2ms/step - loss: 0.0623 - val_loss: 0.0267\n",
            "Epoch 2/25\n",
            "\u001b[1m1875/1875\u001b[0m \u001b[32m━━━━━━━━━━━━━━━━━━━━\u001b[0m\u001b[37m\u001b[0m \u001b[1m7s\u001b[0m 4ms/step - loss: 0.0261 - val_loss: 0.0235\n",
            "Epoch 3/25\n",
            "\u001b[1m1875/1875\u001b[0m \u001b[32m━━━━━━━━━━━━━━━━━━━━\u001b[0m\u001b[37m\u001b[0m \u001b[1m4s\u001b[0m 2ms/step - loss: 0.0234 - val_loss: 0.0222\n",
            "Epoch 4/25\n",
            "\u001b[1m1875/1875\u001b[0m \u001b[32m━━━━━━━━━━━━━━━━━━━━\u001b[0m\u001b[37m\u001b[0m \u001b[1m5s\u001b[0m 3ms/step - loss: 0.0224 - val_loss: 0.0217\n",
            "Epoch 5/25\n",
            "\u001b[1m1875/1875\u001b[0m \u001b[32m━━━━━━━━━━━━━━━━━━━━\u001b[0m\u001b[37m\u001b[0m \u001b[1m6s\u001b[0m 3ms/step - loss: 0.0221 - val_loss: 0.0215\n",
            "Epoch 6/25\n",
            "\u001b[1m1875/1875\u001b[0m \u001b[32m━━━━━━━━━━━━━━━━━━━━\u001b[0m\u001b[37m\u001b[0m \u001b[1m8s\u001b[0m 2ms/step - loss: 0.0220 - val_loss: 0.0213\n",
            "Epoch 7/25\n",
            "\u001b[1m1875/1875\u001b[0m \u001b[32m━━━━━━━━━━━━━━━━━━━━\u001b[0m\u001b[37m\u001b[0m \u001b[1m7s\u001b[0m 4ms/step - loss: 0.0217 - val_loss: 0.0212\n",
            "Epoch 8/25\n",
            "\u001b[1m1875/1875\u001b[0m \u001b[32m━━━━━━━━━━━━━━━━━━━━\u001b[0m\u001b[37m\u001b[0m \u001b[1m8s\u001b[0m 2ms/step - loss: 0.0216 - val_loss: 0.0211\n",
            "Epoch 9/25\n",
            "\u001b[1m1875/1875\u001b[0m \u001b[32m━━━━━━━━━━━━━━━━━━━━\u001b[0m\u001b[37m\u001b[0m \u001b[1m7s\u001b[0m 3ms/step - loss: 0.0215 - val_loss: 0.0210\n",
            "Epoch 10/25\n",
            "\u001b[1m1875/1875\u001b[0m \u001b[32m━━━━━━━━━━━━━━━━━━━━\u001b[0m\u001b[37m\u001b[0m \u001b[1m4s\u001b[0m 2ms/step - loss: 0.0214 - val_loss: 0.0209\n",
            "Epoch 11/25\n",
            "\u001b[1m1875/1875\u001b[0m \u001b[32m━━━━━━━━━━━━━━━━━━━━\u001b[0m\u001b[37m\u001b[0m \u001b[1m7s\u001b[0m 3ms/step - loss: 0.0214 - val_loss: 0.0209\n",
            "Epoch 12/25\n",
            "\u001b[1m1875/1875\u001b[0m \u001b[32m━━━━━━━━━━━━━━━━━━━━\u001b[0m\u001b[37m\u001b[0m \u001b[1m5s\u001b[0m 2ms/step - loss: 0.0214 - val_loss: 0.0208\n",
            "Epoch 13/25\n",
            "\u001b[1m1875/1875\u001b[0m \u001b[32m━━━━━━━━━━━━━━━━━━━━\u001b[0m\u001b[37m\u001b[0m \u001b[1m4s\u001b[0m 2ms/step - loss: 0.0213 - val_loss: 0.0208\n",
            "Epoch 14/25\n",
            "\u001b[1m1875/1875\u001b[0m \u001b[32m━━━━━━━━━━━━━━━━━━━━\u001b[0m\u001b[37m\u001b[0m \u001b[1m6s\u001b[0m 3ms/step - loss: 0.0213 - val_loss: 0.0208\n",
            "Epoch 15/25\n",
            "\u001b[1m1875/1875\u001b[0m \u001b[32m━━━━━━━━━━━━━━━━━━━━\u001b[0m\u001b[37m\u001b[0m \u001b[1m9s\u001b[0m 3ms/step - loss: 0.0213 - val_loss: 0.0207\n",
            "Epoch 16/25\n",
            "\u001b[1m1875/1875\u001b[0m \u001b[32m━━━━━━━━━━━━━━━━━━━━\u001b[0m\u001b[37m\u001b[0m \u001b[1m7s\u001b[0m 3ms/step - loss: 0.0213 - val_loss: 0.0208\n",
            "Epoch 17/25\n",
            "\u001b[1m1875/1875\u001b[0m \u001b[32m━━━━━━━━━━━━━━━━━━━━\u001b[0m\u001b[37m\u001b[0m \u001b[1m10s\u001b[0m 3ms/step - loss: 0.0212 - val_loss: 0.0207\n",
            "Epoch 18/25\n",
            "\u001b[1m1875/1875\u001b[0m \u001b[32m━━━━━━━━━━━━━━━━━━━━\u001b[0m\u001b[37m\u001b[0m \u001b[1m9s\u001b[0m 2ms/step - loss: 0.0212 - val_loss: 0.0207\n",
            "Epoch 19/25\n",
            "\u001b[1m1875/1875\u001b[0m \u001b[32m━━━━━━━━━━━━━━━━━━━━\u001b[0m\u001b[37m\u001b[0m \u001b[1m7s\u001b[0m 3ms/step - loss: 0.0212 - val_loss: 0.0207\n",
            "Epoch 20/25\n",
            "\u001b[1m1875/1875\u001b[0m \u001b[32m━━━━━━━━━━━━━━━━━━━━\u001b[0m\u001b[37m\u001b[0m \u001b[1m9s\u001b[0m 3ms/step - loss: 0.0211 - val_loss: 0.0206\n",
            "Epoch 21/25\n",
            "\u001b[1m1875/1875\u001b[0m \u001b[32m━━━━━━━━━━━━━━━━━━━━\u001b[0m\u001b[37m\u001b[0m \u001b[1m6s\u001b[0m 3ms/step - loss: 0.0210 - val_loss: 0.0206\n",
            "Epoch 22/25\n",
            "\u001b[1m1875/1875\u001b[0m \u001b[32m━━━━━━━━━━━━━━━━━━━━\u001b[0m\u001b[37m\u001b[0m \u001b[1m4s\u001b[0m 2ms/step - loss: 0.0210 - val_loss: 0.0205\n",
            "Epoch 23/25\n",
            "\u001b[1m1875/1875\u001b[0m \u001b[32m━━━━━━━━━━━━━━━━━━━━\u001b[0m\u001b[37m\u001b[0m \u001b[1m6s\u001b[0m 3ms/step - loss: 0.0210 - val_loss: 0.0206\n",
            "Epoch 24/25\n",
            "\u001b[1m1875/1875\u001b[0m \u001b[32m━━━━━━━━━━━━━━━━━━━━\u001b[0m\u001b[37m\u001b[0m \u001b[1m6s\u001b[0m 3ms/step - loss: 0.0210 - val_loss: 0.0206\n",
            "Epoch 25/25\n",
            "\u001b[1m1875/1875\u001b[0m \u001b[32m━━━━━━━━━━━━━━━━━━━━\u001b[0m\u001b[37m\u001b[0m \u001b[1m11s\u001b[0m 3ms/step - loss: 0.0210 - val_loss: 0.0205\n",
            "\u001b[1m313/313\u001b[0m \u001b[32m━━━━━━━━━━━━━━━━━━━━\u001b[0m\u001b[37m\u001b[0m \u001b[1m0s\u001b[0m 1ms/step\n",
            "\u001b[1m313/313\u001b[0m \u001b[32m━━━━━━━━━━━━━━━━━━━━\u001b[0m\u001b[37m\u001b[0m \u001b[1m1s\u001b[0m 2ms/step\n"
          ]
        },
        {
          "output_type": "display_data",
          "data": {
            "text/plain": [
              "<Figure size 640x480 with 9 Axes>"
            ],
            "image/png": "[encoded data removed]"
          },
          "metadata": {}
        }
      ]
    },
    {
      "cell_type": "code",
      "source": [
        "# Autoencoder with 8 bottleneck nodes\n",
        "autoencoder_workflow(8, num_epochs)\n"
      ],
      "metadata": {
        "colab": {
          "base_uri": "https://localhost:8080/",
          "height": 1000
        },
        "id": "Ste6KLQZeJZG",
        "outputId": "d1b540fd-8718-430b-9c1c-9a8fbbbf3fe1"
      },
      "execution_count": 11,
      "outputs": [
        {
          "output_type": "stream",
          "name": "stdout",
          "text": [
            "Epoch 1/25\n",
            "\u001b[1m1875/1875\u001b[0m \u001b[32m━━━━━━━━━━━━━━━━━━━━\u001b[0m\u001b[37m\u001b[0m \u001b[1m5s\u001b[0m 2ms/step - loss: 0.0716 - val_loss: 0.0381\n",
            "Epoch 2/25\n",
            "\u001b[1m1875/1875\u001b[0m \u001b[32m━━━━━━━━━━━━━━━━━━━━\u001b[0m\u001b[37m\u001b[0m \u001b[1m7s\u001b[0m 4ms/step - loss: 0.0377 - val_loss: 0.0358\n",
            "Epoch 3/25\n",
            "\u001b[1m1875/1875\u001b[0m \u001b[32m━━━━━━━━━━━━━━━━━━━━\u001b[0m\u001b[37m\u001b[0m \u001b[1m4s\u001b[0m 2ms/step - loss: 0.0359 - val_loss: 0.0347\n",
            "Epoch 4/25\n",
            "\u001b[1m1875/1875\u001b[0m \u001b[32m━━━━━━━━━━━━━━━━━━━━\u001b[0m\u001b[37m\u001b[0m \u001b[1m6s\u001b[0m 2ms/step - loss: 0.0349 - val_loss: 0.0342\n",
            "Epoch 5/25\n",
            "\u001b[1m1875/1875\u001b[0m \u001b[32m━━━━━━━━━━━━━━━━━━━━\u001b[0m\u001b[37m\u001b[0m \u001b[1m5s\u001b[0m 3ms/step - loss: 0.0344 - val_loss: 0.0339\n",
            "Epoch 6/25\n",
            "\u001b[1m1875/1875\u001b[0m \u001b[32m━━━━━━━━━━━━━━━━━━━━\u001b[0m\u001b[37m\u001b[0m \u001b[1m5s\u001b[0m 2ms/step - loss: 0.0341 - val_loss: 0.0337\n",
            "Epoch 7/25\n",
            "\u001b[1m1875/1875\u001b[0m \u001b[32m━━━━━━━━━━━━━━━━━━━━\u001b[0m\u001b[37m\u001b[0m \u001b[1m6s\u001b[0m 3ms/step - loss: 0.0340 - val_loss: 0.0336\n",
            "Epoch 8/25\n",
            "\u001b[1m1875/1875\u001b[0m \u001b[32m━━━━━━━━━━━━━━━━━━━━\u001b[0m\u001b[37m\u001b[0m \u001b[1m4s\u001b[0m 2ms/step - loss: 0.0341 - val_loss: 0.0335\n",
            "Epoch 9/25\n",
            "\u001b[1m1875/1875\u001b[0m \u001b[32m━━━━━━━━━━━━━━━━━━━━\u001b[0m\u001b[37m\u001b[0m \u001b[1m5s\u001b[0m 2ms/step - loss: 0.0340 - val_loss: 0.0335\n",
            "Epoch 10/25\n",
            "\u001b[1m1875/1875\u001b[0m \u001b[32m━━━━━━━━━━━━━━━━━━━━\u001b[0m\u001b[37m\u001b[0m \u001b[1m6s\u001b[0m 3ms/step - loss: 0.0340 - val_loss: 0.0334\n",
            "Epoch 11/25\n",
            "\u001b[1m1875/1875\u001b[0m \u001b[32m━━━━━━━━━━━━━━━━━━━━\u001b[0m\u001b[37m\u001b[0m \u001b[1m10s\u001b[0m 3ms/step - loss: 0.0339 - val_loss: 0.0334\n",
            "Epoch 12/25\n",
            "\u001b[1m1875/1875\u001b[0m \u001b[32m━━━━━━━━━━━━━━━━━━━━\u001b[0m\u001b[37m\u001b[0m \u001b[1m6s\u001b[0m 3ms/step - loss: 0.0338 - val_loss: 0.0334\n",
            "Epoch 13/25\n",
            "\u001b[1m1875/1875\u001b[0m \u001b[32m━━━━━━━━━━━━━━━━━━━━\u001b[0m\u001b[37m\u001b[0m \u001b[1m4s\u001b[0m 2ms/step - loss: 0.0338 - val_loss: 0.0333\n",
            "Epoch 14/25\n",
            "\u001b[1m1875/1875\u001b[0m \u001b[32m━━━━━━━━━━━━━━━━━━━━\u001b[0m\u001b[37m\u001b[0m \u001b[1m5s\u001b[0m 3ms/step - loss: 0.0338 - val_loss: 0.0334\n",
            "Epoch 15/25\n",
            "\u001b[1m1875/1875\u001b[0m \u001b[32m━━━━━━━━━━━━━━━━━━━━\u001b[0m\u001b[37m\u001b[0m \u001b[1m5s\u001b[0m 3ms/step - loss: 0.0337 - val_loss: 0.0333\n",
            "Epoch 16/25\n",
            "\u001b[1m1875/1875\u001b[0m \u001b[32m━━━━━━━━━━━━━━━━━━━━\u001b[0m\u001b[37m\u001b[0m \u001b[1m5s\u001b[0m 3ms/step - loss: 0.0338 - val_loss: 0.0333\n",
            "Epoch 17/25\n",
            "\u001b[1m1875/1875\u001b[0m \u001b[32m━━━━━━━━━━━━━━━━━━━━\u001b[0m\u001b[37m\u001b[0m \u001b[1m5s\u001b[0m 3ms/step - loss: 0.0338 - val_loss: 0.0332\n",
            "Epoch 18/25\n",
            "\u001b[1m1875/1875\u001b[0m \u001b[32m━━━━━━━━━━━━━━━━━━━━\u001b[0m\u001b[37m\u001b[0m \u001b[1m5s\u001b[0m 2ms/step - loss: 0.0337 - val_loss: 0.0333\n",
            "Epoch 19/25\n",
            "\u001b[1m1875/1875\u001b[0m \u001b[32m━━━━━━━━━━━━━━━━━━━━\u001b[0m\u001b[37m\u001b[0m \u001b[1m5s\u001b[0m 2ms/step - loss: 0.0337 - val_loss: 0.0333\n",
            "Epoch 20/25\n",
            "\u001b[1m1875/1875\u001b[0m \u001b[32m━━━━━━━━━━━━━━━━━━━━\u001b[0m\u001b[37m\u001b[0m \u001b[1m6s\u001b[0m 3ms/step - loss: 0.0337 - val_loss: 0.0333\n",
            "Epoch 21/25\n",
            "\u001b[1m1875/1875\u001b[0m \u001b[32m━━━━━━━━━━━━━━━━━━━━\u001b[0m\u001b[37m\u001b[0m \u001b[1m9s\u001b[0m 2ms/step - loss: 0.0336 - val_loss: 0.0333\n",
            "\u001b[1m313/313\u001b[0m \u001b[32m━━━━━━━━━━━━━━━━━━━━\u001b[0m\u001b[37m\u001b[0m \u001b[1m1s\u001b[0m 2ms/step\n",
            "\u001b[1m313/313\u001b[0m \u001b[32m━━━━━━━━━━━━━━━━━━━━\u001b[0m\u001b[37m\u001b[0m \u001b[1m1s\u001b[0m 2ms/step\n"
          ]
        },
        {
          "output_type": "display_data",
          "data": {
            "text/plain": [
              "<Figure size 640x480 with 9 Axes>"
            ],
            "image/png": "[encoded data removed]"
          },
          "metadata": {}
        }
      ]
    },
    {
      "cell_type": "code",
      "source": [
        "def create_conv_autoencoder(input_shape):\n",
        "    \"\"\"Convolutional autoencoder architecture\"\"\"\n",
        "    input_img = layers.Input(input_shape)\n",
        "\n",
        "    encoded = layers.Conv2D(16, (3, 3), activation=\"relu\", padding=\"same\")(input_img)\n",
        "    encoded = layers.MaxPooling2D((2, 2))(encoded)\n",
        "    encoded = layers.Conv2D(8, (3, 3), activation=\"relu\", padding=\"same\")(encoded)\n",
        "    encoded = layers.MaxPooling2D((2, 2))(encoded)\n",
        "    encoded = layers.Conv2D(4, (3, 3), activation=\"relu\", padding=\"same\")(encoded)\n",
        "    encoded = layers.MaxPooling2D((2, 2), padding=\"same\")(encoded)\n",
        "\n",
        "    encoder_model = Model(input_img, encoded)  # dims: 4 feature maps with size 4 x 4 (64 bottleneck nodes)\n",
        "\n",
        "    decoded = layers.Conv2D(4, (3, 3), activation=\"relu\", padding=\"same\")(encoded)\n",
        "    decoded = layers.UpSampling2D((2, 2))(decoded)\n",
        "    decoded = layers.Conv2D(8, (3, 3), activation=\"relu\", padding=\"same\")(decoded)\n",
        "    decoded = layers.UpSampling2D((2, 2))(decoded)\n",
        "    decoded = layers.Conv2D(16, (3, 3), activation=\"relu\")(decoded)\n",
        "    decoded = layers.UpSampling2D((2, 2))(decoded)\n",
        "    decoded = layers.Conv2D(1, (3, 3), activation=\"sigmoid\", padding=\"same\")(decoded)\n",
        "\n",
        "    autoencoder = Model(input_img, decoded)\n",
        "    autoencoder.compile(optimizer=tf.keras.optimizers.Adadelta(learning_rate=0.1), loss=\"mse\")\n",
        "\n",
        "    return autoencoder, encoder_model\n"
      ],
      "metadata": {
        "id": "JgcH5ikReMO6"
      },
      "execution_count": 2,
      "outputs": []
    },
    {
      "cell_type": "code",
      "source": [
        "# Get training and test MNIST images\n",
        "(train, _), (test, _) = mnist.load_data()\n",
        "\n",
        "# Add color dimensions\n",
        "train = (train.astype(np.float32) / 255).reshape((len(train), 28, 28, 1))\n",
        "test = (test.astype(np.float32) / 255).reshape((len(test), 28, 28, 1))\n",
        "\n",
        "# Get dimensions from example image\n",
        "dims = train[0].shape\n"
      ],
      "metadata": {
        "colab": {
          "base_uri": "https://localhost:8080/"
        },
        "id": "hDdUPco-eQzp",
        "outputId": "551fea49-624d-475a-e651-0dd8e6c3c5db"
      },
      "execution_count": 5,
      "outputs": [
        {
          "output_type": "stream",
          "name": "stdout",
          "text": [
            "Downloading data from https://storage.googleapis.com/tensorflow/tf-keras-datasets/mnist.npz\n",
            "\u001b[1m11490434/11490434\u001b[0m \u001b[32m━━━━━━━━━━━━━━━━━━━━\u001b[0m\u001b[37m\u001b[0m \u001b[1m1s\u001b[0m 0us/step\n"
          ]
        }
      ]
    },
    {
      "cell_type": "code",
      "source": [
        "# Create autoencoder and associated encoder model\n",
        "autoencoder, encoder = create_conv_autoencoder(dims)\n",
        "\n",
        "# Configure stopping criterion via early stopping\n",
        "callback = tf.keras.callbacks.EarlyStopping(monitor=\"val_loss\", patience=4)\n",
        "\n",
        "# Train autoencoder\n",
        "autoencoder.fit(train, train,\n",
        "                validation_data=(test, test),\n",
        "                batch_size=256,\n",
        "                epochs=40,\n",
        "                callbacks=[callback],)\n"
      ],
      "metadata": {
        "colab": {
          "base_uri": "https://localhost:8080/"
        },
        "id": "v3lIjBRKeT1h",
        "outputId": "329cbebf-50f4-4af2-d1c2-215706b7b8da"
      },
      "execution_count": 6,
      "outputs": [
        {
          "output_type": "stream",
          "name": "stdout",
          "text": [
            "Epoch 1/40\n",
            "\u001b[1m235/235\u001b[0m \u001b[32m━━━━━━━━━━━━━━━━━━━━\u001b[0m\u001b[37m\u001b[0m \u001b[1m73s\u001b[0m 301ms/step - loss: 0.1772 - val_loss: 0.0824\n",
            "Epoch 2/40\n",
            "\u001b[1m235/235\u001b[0m \u001b[32m━━━━━━━━━━━━━━━━━━━━\u001b[0m\u001b[37m\u001b[0m \u001b[1m83s\u001b[0m 304ms/step - loss: 0.0760 - val_loss: 0.0644\n",
            "Epoch 3/40\n",
            "\u001b[1m235/235\u001b[0m \u001b[32m━━━━━━━━━━━━━━━━━━━━\u001b[0m\u001b[37m\u001b[0m \u001b[1m79s\u001b[0m 294ms/step - loss: 0.0622 - val_loss: 0.0585\n",
            "Epoch 4/40\n",
            "\u001b[1m235/235\u001b[0m \u001b[32m━━━━━━━━━━━━━━━━━━━━\u001b[0m\u001b[37m\u001b[0m \u001b[1m81s\u001b[0m 291ms/step - loss: 0.0574 - val_loss: 0.0552\n",
            "Epoch 5/40\n",
            "\u001b[1m235/235\u001b[0m \u001b[32m━━━━━━━━━━━━━━━━━━━━\u001b[0m\u001b[37m\u001b[0m \u001b[1m82s\u001b[0m 292ms/step - loss: 0.0544 - val_loss: 0.0530\n",
            "Epoch 6/40\n",
            "\u001b[1m235/235\u001b[0m \u001b[32m━━━━━━━━━━━━━━━━━━━━\u001b[0m\u001b[37m\u001b[0m \u001b[1m71s\u001b[0m 302ms/step - loss: 0.0525 - val_loss: 0.0512\n",
            "Epoch 7/40\n",
            "\u001b[1m235/235\u001b[0m \u001b[32m━━━━━━━━━━━━━━━━━━━━\u001b[0m\u001b[37m\u001b[0m \u001b[1m81s\u001b[0m 297ms/step - loss: 0.0507 - val_loss: 0.0493\n",
            "Epoch 8/40\n",
            "\u001b[1m235/235\u001b[0m \u001b[32m━━━━━━━━━━━━━━━━━━━━\u001b[0m\u001b[37m\u001b[0m \u001b[1m81s\u001b[0m 295ms/step - loss: 0.0490 - val_loss: 0.0480\n",
            "Epoch 9/40\n",
            "\u001b[1m235/235\u001b[0m \u001b[32m━━━━━━━━━━━━━━━━━━━━\u001b[0m\u001b[37m\u001b[0m \u001b[1m85s\u001b[0m 307ms/step - loss: 0.0478 - val_loss: 0.0466\n",
            "Epoch 10/40\n",
            "\u001b[1m235/235\u001b[0m \u001b[32m━━━━━━━━━━━━━━━━━━━━\u001b[0m\u001b[37m\u001b[0m \u001b[1m79s\u001b[0m 294ms/step - loss: 0.0464 - val_loss: 0.0453\n",
            "Epoch 11/40\n",
            "\u001b[1m235/235\u001b[0m \u001b[32m━━━━━━━━━━━━━━━━━━━━\u001b[0m\u001b[37m\u001b[0m \u001b[1m80s\u001b[0m 286ms/step - loss: 0.0453 - val_loss: 0.0442\n",
            "Epoch 12/40\n",
            "\u001b[1m235/235\u001b[0m \u001b[32m━━━━━━━━━━━━━━━━━━━━\u001b[0m\u001b[37m\u001b[0m \u001b[1m83s\u001b[0m 290ms/step - loss: 0.0443 - val_loss: 0.0432\n",
            "Epoch 13/40\n",
            "\u001b[1m235/235\u001b[0m \u001b[32m━━━━━━━━━━━━━━━━━━━━\u001b[0m\u001b[37m\u001b[0m \u001b[1m83s\u001b[0m 293ms/step - loss: 0.0432 - val_loss: 0.0423\n",
            "Epoch 14/40\n",
            "\u001b[1m235/235\u001b[0m \u001b[32m━━━━━━━━━━━━━━━━━━━━\u001b[0m\u001b[37m\u001b[0m \u001b[1m69s\u001b[0m 295ms/step - loss: 0.0424 - val_loss: 0.0414\n",
            "Epoch 15/40\n",
            "\u001b[1m235/235\u001b[0m \u001b[32m━━━━━━━━━━━━━━━━━━━━\u001b[0m\u001b[37m\u001b[0m \u001b[1m81s\u001b[0m 292ms/step - loss: 0.0415 - val_loss: 0.0406\n",
            "Epoch 16/40\n",
            "\u001b[1m235/235\u001b[0m \u001b[32m━━━━━━━━━━━━━━━━━━━━\u001b[0m\u001b[37m\u001b[0m \u001b[1m82s\u001b[0m 293ms/step - loss: 0.0408 - val_loss: 0.0399\n",
            "Epoch 17/40\n",
            "\u001b[1m235/235\u001b[0m \u001b[32m━━━━━━━━━━━━━━━━━━━━\u001b[0m\u001b[37m\u001b[0m \u001b[1m72s\u001b[0m 308ms/step - loss: 0.0401 - val_loss: 0.0392\n",
            "Epoch 18/40\n",
            "\u001b[1m235/235\u001b[0m \u001b[32m━━━━━━━━━━━━━━━━━━━━\u001b[0m\u001b[37m\u001b[0m \u001b[1m79s\u001b[0m 294ms/step - loss: 0.0394 - val_loss: 0.0385\n",
            "Epoch 19/40\n",
            "\u001b[1m235/235\u001b[0m \u001b[32m━━━━━━━━━━━━━━━━━━━━\u001b[0m\u001b[37m\u001b[0m \u001b[1m83s\u001b[0m 299ms/step - loss: 0.0387 - val_loss: 0.0380\n",
            "Epoch 20/40\n",
            "\u001b[1m235/235\u001b[0m \u001b[32m━━━━━━━━━━━━━━━━━━━━\u001b[0m\u001b[37m\u001b[0m \u001b[1m79s\u001b[0m 287ms/step - loss: 0.0382 - val_loss: 0.0374\n",
            "Epoch 21/40\n",
            "\u001b[1m235/235\u001b[0m \u001b[32m━━━━━━━━━━━━━━━━━━━━\u001b[0m\u001b[37m\u001b[0m \u001b[1m83s\u001b[0m 292ms/step - loss: 0.0377 - val_loss: 0.0369\n",
            "Epoch 22/40\n",
            "\u001b[1m235/235\u001b[0m \u001b[32m━━━━━━━━━━━━━━━━━━━━\u001b[0m\u001b[37m\u001b[0m \u001b[1m83s\u001b[0m 297ms/step - loss: 0.0371 - val_loss: 0.0364\n",
            "Epoch 23/40\n",
            "\u001b[1m235/235\u001b[0m \u001b[32m━━━━━━━━━━━━━━━━━━━━\u001b[0m\u001b[37m\u001b[0m \u001b[1m80s\u001b[0m 288ms/step - loss: 0.0368 - val_loss: 0.0360\n",
            "Epoch 24/40\n",
            "\u001b[1m235/235\u001b[0m \u001b[32m━━━━━━━━━━━━━━━━━━━━\u001b[0m\u001b[37m\u001b[0m \u001b[1m67s\u001b[0m 285ms/step - loss: 0.0362 - val_loss: 0.0356\n",
            "Epoch 25/40\n",
            "\u001b[1m235/235\u001b[0m \u001b[32m━━━━━━━━━━━━━━━━━━━━\u001b[0m\u001b[37m\u001b[0m \u001b[1m84s\u001b[0m 294ms/step - loss: 0.0358 - val_loss: 0.0353\n",
            "Epoch 26/40\n",
            "\u001b[1m235/235\u001b[0m \u001b[32m━━━━━━━━━━━━━━━━━━━━\u001b[0m\u001b[37m\u001b[0m \u001b[1m81s\u001b[0m 292ms/step - loss: 0.0355 - val_loss: 0.0348\n",
            "Epoch 27/40\n",
            "\u001b[1m235/235\u001b[0m \u001b[32m━━━━━━━━━━━━━━━━━━━━\u001b[0m\u001b[37m\u001b[0m \u001b[1m69s\u001b[0m 296ms/step - loss: 0.0352 - val_loss: 0.0344\n",
            "Epoch 28/40\n",
            "\u001b[1m235/235\u001b[0m \u001b[32m━━━━━━━━━━━━━━━━━━━━\u001b[0m\u001b[37m\u001b[0m \u001b[1m82s\u001b[0m 298ms/step - loss: 0.0347 - val_loss: 0.0341\n",
            "Epoch 29/40\n",
            "\u001b[1m235/235\u001b[0m \u001b[32m━━━━━━━━━━━━━━━━━━━━\u001b[0m\u001b[37m\u001b[0m \u001b[1m68s\u001b[0m 290ms/step - loss: 0.0345 - val_loss: 0.0338\n",
            "Epoch 30/40\n",
            "\u001b[1m235/235\u001b[0m \u001b[32m━━━━━━━━━━━━━━━━━━━━\u001b[0m\u001b[37m\u001b[0m \u001b[1m84s\u001b[0m 297ms/step - loss: 0.0340 - val_loss: 0.0335\n",
            "Epoch 31/40\n",
            "\u001b[1m235/235\u001b[0m \u001b[32m━━━━━━━━━━━━━━━━━━━━\u001b[0m\u001b[37m\u001b[0m \u001b[1m81s\u001b[0m 293ms/step - loss: 0.0339 - val_loss: 0.0332\n",
            "Epoch 32/40\n",
            "\u001b[1m235/235\u001b[0m \u001b[32m━━━━━━━━━━━━━━━━━━━━\u001b[0m\u001b[37m\u001b[0m \u001b[1m69s\u001b[0m 294ms/step - loss: 0.0334 - val_loss: 0.0329\n",
            "Epoch 33/40\n",
            "\u001b[1m235/235\u001b[0m \u001b[32m━━━━━━━━━━━━━━━━━━━━\u001b[0m\u001b[37m\u001b[0m \u001b[1m82s\u001b[0m 293ms/step - loss: 0.0332 - val_loss: 0.0326\n",
            "Epoch 34/40\n",
            "\u001b[1m235/235\u001b[0m \u001b[32m━━━━━━━━━━━━━━━━━━━━\u001b[0m\u001b[37m\u001b[0m \u001b[1m71s\u001b[0m 301ms/step - loss: 0.0329 - val_loss: 0.0324\n",
            "Epoch 35/40\n",
            "\u001b[1m235/235\u001b[0m \u001b[32m━━━━━━━━━━━━━━━━━━━━\u001b[0m\u001b[37m\u001b[0m \u001b[1m81s\u001b[0m 299ms/step - loss: 0.0327 - val_loss: 0.0321\n",
            "Epoch 36/40\n",
            "\u001b[1m235/235\u001b[0m \u001b[32m━━━━━━━━━━━━━━━━━━━━\u001b[0m\u001b[37m\u001b[0m \u001b[1m79s\u001b[0m 288ms/step - loss: 0.0324 - val_loss: 0.0319\n",
            "Epoch 37/40\n",
            "\u001b[1m235/235\u001b[0m \u001b[32m━━━━━━━━━━━━━━━━━━━━\u001b[0m\u001b[37m\u001b[0m \u001b[1m83s\u001b[0m 294ms/step - loss: 0.0323 - val_loss: 0.0316\n",
            "Epoch 38/40\n",
            "\u001b[1m235/235\u001b[0m \u001b[32m━━━━━━━━━━━━━━━━━━━━\u001b[0m\u001b[37m\u001b[0m \u001b[1m70s\u001b[0m 297ms/step - loss: 0.0320 - val_loss: 0.0314\n",
            "Epoch 39/40\n",
            "\u001b[1m235/235\u001b[0m \u001b[32m━━━━━━━━━━━━━━━━━━━━\u001b[0m\u001b[37m\u001b[0m \u001b[1m82s\u001b[0m 297ms/step - loss: 0.0317 - val_loss: 0.0312\n",
            "Epoch 40/40\n",
            "\u001b[1m235/235\u001b[0m \u001b[32m━━━━━━━━━━━━━━━━━━━━\u001b[0m\u001b[37m\u001b[0m \u001b[1m81s\u001b[0m 294ms/step - loss: 0.0315 - val_loss: 0.0310\n"
          ]
        },
        {
          "output_type": "execute_result",
          "data": {
            "text/plain": [
              "<keras.src.callbacks.history.History at 0x7ddb02479360>"
            ]
          },
          "metadata": {},
          "execution_count": 6
        }
      ]
    },
    {
      "cell_type": "code",
      "source": [
        "pred = autoencoder.predict(test)\n"
      ],
      "metadata": {
        "colab": {
          "base_uri": "https://localhost:8080/"
        },
        "id": "NwM_-Sh8eW2L",
        "outputId": "69cb021f-b43c-4305-ca54-d0fceaedffd4"
      },
      "execution_count": 7,
      "outputs": [
        {
          "output_type": "stream",
          "name": "stdout",
          "text": [
            "\u001b[1m313/313\u001b[0m \u001b[32m━━━━━━━━━━━━━━━━━━━━\u001b[0m\u001b[37m\u001b[0m \u001b[1m5s\u001b[0m 17ms/step\n"
          ]
        }
      ]
    },
    {
      "cell_type": "code",
      "source": [
        "def plot_with_filters(original, encoded, reconstructed, num_examples=1, num_filters=4):\n",
        "    \"\"\"Plot test set examples with original, filter activations and prediction\"\"\"\n",
        "\n",
        "    assert num_filters <= encoded.shape[-1], \\\n",
        "    \"num_filters={} exceeds number of available feature maps ({}).\".format(num_filters, encoded.shape[-1])\n",
        "\n",
        "    # Plotting parameters set to not show ticks and tick labels\n",
        "    params = {\"bottom\": False,\n",
        "              \"left\": False,\n",
        "              \"labelbottom\": False,\n",
        "              \"labelleft\": False}\n",
        "\n",
        "    # Create a composite figure\n",
        "    fig = plt.figure(figsize=(8, 8))\n",
        "    gs = fig.add_gridspec(num_filters * num_examples, num_examples)\n",
        "\n",
        "    # Originals and reconstructions\n",
        "    for example_index in range(num_examples):\n",
        "        # Left column\n",
        "        ax = fig.add_subplot(gs[example_index * num_filters:(example_index + 1) * num_filters, 0])\n",
        "        ax.imshow(original[example_index])\n",
        "        ax.tick_params(**params)\n",
        "\n",
        "        # Left column title\n",
        "        if example_index == 0:\n",
        "            ax.title.set_text(\"Original\")\n",
        "\n",
        "        # Right columns\n",
        "        ax = fig.add_subplot(gs[example_index * num_filters:(example_index + 1) * num_filters, 2])\n",
        "        ax.imshow(reconstructed[example_index])\n",
        "        ax.tick_params(**params)\n",
        "\n",
        "        # Right column title\n",
        "        if example_index == 0:\n",
        "            ax.title.set_text(\"Reconstruction\")\n",
        "\n",
        "    # Encodings\n",
        "    for filter_index in range(num_filters * num_examples):\n",
        "        ax = fig.add_subplot(gs[filter_index, 1])\n",
        "        ax.imshow(encoded[int(filter_index / num_filters), :, :, filter_index % num_filters])\n",
        "        ax.tick_params(**params)\n",
        "\n",
        "        # Mid column title\n",
        "        if filter_index == 0:\n",
        "            ax.title.set_text(\"Encoding\")\n",
        "\n",
        "    # Auto-format and show figure\n",
        "    plt.tight_layout()\n",
        "    plt.show()\n"
      ],
      "metadata": {
        "id": "nObsGpV3eaQp"
      },
      "execution_count": 8,
      "outputs": []
    },
    {
      "cell_type": "code",
      "source": [
        "# Create encoded representation\n",
        "encoded = encoder.predict(test)\n",
        "\n",
        "# Reshaping image data for visualization\n",
        "test_reshaped = test.reshape(len(test), dims[0], dims[1])\n",
        "pred_reshaped = pred.reshape(len(pred), dims[0], dims[1])\n",
        "\n",
        "# Display dimensions\n",
        "print(\"Test dimensions:\", test_reshaped.shape)\n",
        "print(\"Encoded dimensions:\", encoded.shape)\n",
        "print(\"Reconstructed dimensions:\", pred_reshaped.shape)\n",
        "\n",
        "# Visualize three example images\n",
        "plot_with_filters(test_reshaped, encoded, pred_reshaped, num_examples=3, num_filters=4)\n",
        ""
      ],
      "metadata": {
        "colab": {
          "base_uri": "https://localhost:8080/",
          "height": 876
        },
        "id": "bX30TPfKembD",
        "outputId": "8cc9329a-a7d3-47c9-ef34-ea11d34dc29e"
      },
      "execution_count": 9,
      "outputs": [
        {
          "output_type": "stream",
          "name": "stdout",
          "text": [
            "\u001b[1m313/313\u001b[0m \u001b[32m━━━━━━━━━━━━━━━━━━━━\u001b[0m\u001b[37m\u001b[0m \u001b[1m6s\u001b[0m 20ms/step\n",
            "Test dimensions: (10000, 28, 28)\n",
            "Encoded dimensions: (10000, 4, 4, 4)\n",
            "Reconstructed dimensions: (10000, 28, 28)\n"
          ]
        },
        {
          "output_type": "display_data",
          "data": {
            "text/plain": [
              "<Figure size 800x800 with 18 Axes>"
            ],
            "image/png": "[encoded data removed]"
          },
          "metadata": {}
        }
      ]
    },
    {
      "cell_type": "code",
      "source": [],
      "metadata": {
        "id": "6WEDXFhGjKvD"
      },
      "execution_count": null,
      "outputs": []
    }
  ]
}