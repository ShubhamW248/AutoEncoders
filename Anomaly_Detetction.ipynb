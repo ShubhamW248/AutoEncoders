{
  "nbformat": 4,
  "nbformat_minor": 0,
  "metadata": {
    "colab": {
      "provenance": [],
      "authorship_tag": "ABX9TyOhlBBSq3b0bMcNf07n6FWd",
      "include_colab_link": true
    },
    "kernelspec": {
      "name": "python3",
      "display_name": "Python 3"
    },
    "language_info": {
      "name": "python"
    }
  },
  "cells": [
    {
      "cell_type": "markdown",
      "metadata": {
        "id": "view-in-github",
        "colab_type": "text"
      },
      "source": [
        "<a href=\"https://colab.research.google.com/github/ShubhamW248/AutoEncoders/blob/main/Anomaly_Detetction.ipynb\" target=\"_parent\"><img src=\"https://colab.research.google.com/assets/colab-badge.svg\" alt=\"Open In Colab\"/></a>"
      ]
    },
    {
      "cell_type": "markdown",
      "source": [
        "# Autoencoder-based Anomaly Detection\n"
      ],
      "metadata": {
        "id": "r25h0ktHQtvK"
      }
    },
    {
      "cell_type": "markdown",
      "source": [
        "In this notebook, we will train an autoencoder and variational autoencoders  for anomaly detection ."
      ],
      "metadata": {
        "id": "z4G6vppxQ2HI"
      }
    },
    {
      "cell_type": "code",
      "source": [
        "import numpy as np\n",
        "import pandas as pd\n",
        "import matplotlib.pyplot as plt\n",
        "from sklearn.model_selection import train_test_split\n",
        "from sklearn.preprocessing import StandardScaler\n",
        "from sklearn.metrics import roc_auc_score, precision_recall_curve, auc\n",
        "import tensorflow as tf\n",
        "from tensorflow.keras import layers, models, losses\n",
        "\n"
      ],
      "metadata": {
        "id": "2DX52cTmQp09"
      },
      "execution_count": 9,
      "outputs": []
    },
    {
      "cell_type": "code",
      "source": [
        "# Load and preprocess the data\n",
        "print(\"Loading and preprocessing the data...\")\n",
        "df = pd.read_csv('https://storage.googleapis.com/download.tensorflow.org/data/creditcard.csv')\n",
        "X = df.drop('Class', axis=1)\n",
        "y = df['Class']\n",
        "\n",
        "# Split the data\n",
        "X_train, X_test, y_train, y_test = train_test_split(X, y, test_size=0.2, random_state=42)\n",
        "\n",
        "# Scale the features\n",
        "scaler = StandardScaler()\n",
        "X_train_scaled = scaler.fit_transform(X_train)\n",
        "X_test_scaled = scaler.transform(X_test)\n",
        "\n",
        "print(\"Data preprocessing complete.\")\n"
      ],
      "metadata": {
        "colab": {
          "base_uri": "https://localhost:8080/"
        },
        "id": "EfE5P-D2Q_Vd",
        "outputId": "58af161f-b88d-43fa-b17a-9ed60af7c78d"
      },
      "execution_count": 10,
      "outputs": [
        {
          "output_type": "stream",
          "name": "stdout",
          "text": [
            "Loading and preprocessing the data...\n",
            "Data preprocessing complete.\n"
          ]
        }
      ]
    },
    {
      "cell_type": "code",
      "source": [
        "# Define the Autoencoder model\n",
        "def build_autoencoder(input_dim):\n",
        "    encoder = models.Sequential([\n",
        "        layers.Dense(64, activation='relu', input_shape=(input_dim,)),\n",
        "        layers.Dense(32, activation='relu'),\n",
        "        layers.Dense(16, activation='relu')\n",
        "    ])\n",
        "\n",
        "    decoder = models.Sequential([\n",
        "        layers.Dense(32, activation='relu', input_shape=(16,)),\n",
        "        layers.Dense(64, activation='relu'),\n",
        "        layers.Dense(input_dim, activation='linear')\n",
        "    ])\n",
        "\n",
        "    autoencoder = models.Sequential([encoder, decoder])\n",
        "    return autoencoder\n"
      ],
      "metadata": {
        "id": "VlQdQF0iTvdq"
      },
      "execution_count": 11,
      "outputs": []
    },
    {
      "cell_type": "code",
      "source": [
        "# Define the VAE model\n",
        "class VAE(models.Model):\n",
        "    def __init__(self, input_dim, latent_dim):\n",
        "        super(VAE, self).__init__()\n",
        "        self.latent_dim = latent_dim\n",
        "        self.encoder = tf.keras.Sequential([\n",
        "            layers.Dense(64, activation='relu', input_shape=(input_dim,)),\n",
        "            layers.Dense(32, activation='relu'),\n",
        "            layers.Dense(latent_dim + latent_dim)\n",
        "        ])\n",
        "        self.decoder = tf.keras.Sequential([\n",
        "            layers.Dense(32, activation='relu', input_shape=(latent_dim,)),\n",
        "            layers.Dense(64, activation='relu'),\n",
        "            layers.Dense(input_dim, activation='linear')\n",
        "        ])\n",
        "\n",
        "    def encode(self, x):\n",
        "        mean, logvar = tf.split(self.encoder(x), num_or_size_splits=2, axis=1)\n",
        "        return mean, logvar\n",
        "\n",
        "    def reparameterize(self, mean, logvar):\n",
        "        eps = tf.random.normal(shape=mean.shape)\n",
        "        return eps * tf.exp(logvar * .5) + mean\n",
        "\n",
        "    def decode(self, z):\n",
        "        return self.decoder(z)\n",
        "\n",
        "    def call(self, x):\n",
        "        mean, logvar = self.encode(x)\n",
        "        z = self.reparameterize(mean, logvar)\n",
        "        x_recon = self.decode(z)\n",
        "        return x_recon, mean, logvar\n"
      ],
      "metadata": {
        "id": "4c9E1gIdTz9y"
      },
      "execution_count": 12,
      "outputs": []
    },
    {
      "cell_type": "code",
      "source": [
        "# Train and evaluate Autoencoder\n",
        "print(\"Training and evaluating Autoencoder...\")\n",
        "autoencoder = build_autoencoder(X_train_scaled.shape[1])\n",
        "autoencoder.compile(optimizer='adam', loss='mse')\n",
        "autoencoder.fit(X_train_scaled, X_train_scaled, epochs=50, batch_size=256, validation_split=0.2, verbose=0)\n",
        "\n",
        "autoencoder_recon = autoencoder.predict(X_test_scaled)\n",
        "autoencoder_mse = np.mean(np.power(X_test_scaled - autoencoder_recon, 2), axis=1)\n",
        "autoencoder_auc = roc_auc_score(y_test, autoencoder_mse)\n",
        "print(f\"Autoencoder ROC AUC: {autoencoder_auc:.4f}\")\n"
      ],
      "metadata": {
        "colab": {
          "base_uri": "https://localhost:8080/"
        },
        "id": "4Lm4VoZHT6_r",
        "outputId": "216b2b42-f386-4fde-fe08-3ec15d32bed4"
      },
      "execution_count": 13,
      "outputs": [
        {
          "output_type": "stream",
          "name": "stdout",
          "text": [
            "Training and evaluating Autoencoder...\n"
          ]
        },
        {
          "output_type": "stream",
          "name": "stderr",
          "text": [
            "/usr/local/lib/python3.10/dist-packages/keras/src/layers/core/dense.py:87: UserWarning: Do not pass an `input_shape`/`input_dim` argument to a layer. When using Sequential models, prefer using an `Input(shape)` object as the first layer in the model instead.\n",
            "  super().__init__(activity_regularizer=activity_regularizer, **kwargs)\n"
          ]
        },
        {
          "output_type": "stream",
          "name": "stdout",
          "text": [
            "\u001b[1m1781/1781\u001b[0m \u001b[32m━━━━━━━━━━━━━━━━━━━━\u001b[0m\u001b[37m\u001b[0m \u001b[1m2s\u001b[0m 1ms/step\n",
            "Autoencoder ROC AUC: 0.9551\n"
          ]
        }
      ]
    },
    {
      "cell_type": "code",
      "source": [
        "# Ensure input data is float32\n",
        "X_train_scaled = X_train_scaled.astype(np.float32)\n",
        "X_test_scaled = X_test_scaled.astype(np.float32)\n",
        "\n",
        "# Define the VAE model with explicit float32 dtype\n",
        "class VAE(models.Model):\n",
        "    def __init__(self, input_dim, latent_dim):\n",
        "        super(VAE, self).__init__()\n",
        "        self.latent_dim = latent_dim\n",
        "        self.encoder = tf.keras.Sequential([\n",
        "            layers.Dense(64, activation='relu', input_shape=(input_dim,), dtype=tf.float32),\n",
        "            layers.Dense(32, activation='relu', dtype=tf.float32),\n",
        "            layers.Dense(latent_dim + latent_dim, dtype=tf.float32)\n",
        "        ])\n",
        "        self.decoder = tf.keras.Sequential([\n",
        "            layers.Dense(32, activation='relu', input_shape=(latent_dim,), dtype=tf.float32),\n",
        "            layers.Dense(64, activation='relu', dtype=tf.float32),\n",
        "            layers.Dense(input_dim, activation='linear', dtype=tf.float32)\n",
        "        ])\n",
        "\n",
        "    def encode(self, x):\n",
        "        mean, logvar = tf.split(self.encoder(x), num_or_size_splits=2, axis=1)\n",
        "        return mean, logvar\n",
        "\n",
        "    def reparameterize(self, mean, logvar):\n",
        "        eps = tf.random.normal(shape=mean.shape)\n",
        "        return eps * tf.exp(logvar * .5) + mean\n",
        "\n",
        "    def decode(self, z):\n",
        "        return self.decoder(z)\n",
        "\n",
        "    def call(self, x):\n",
        "        mean, logvar = self.encode(x)\n",
        "        z = self.reparameterize(mean, logvar)\n",
        "        x_recon = self.decode(z)\n",
        "        return x_recon, mean, logvar\n",
        "\n",
        "# Train and evaluate VAE\n",
        "print(\"Training and evaluating VAE...\")\n",
        "vae = VAE(X_train_scaled.shape[1], latent_dim=8)\n",
        "\n",
        "@tf.function\n",
        "def vae_loss(x, x_recon, mean, logvar):\n",
        "    recon_loss = tf.reduce_mean(tf.reduce_sum(tf.square(x - x_recon), axis=1))\n",
        "    kl_loss = -0.5 * tf.reduce_mean(tf.reduce_sum(1 + logvar - tf.square(mean) - tf.exp(logvar), axis=1))\n",
        "    return recon_loss + kl_loss\n",
        "\n",
        "optimizer = tf.keras.optimizers.Adam()\n",
        "\n",
        "@tf.function\n",
        "def train_step(x):\n",
        "    with tf.GradientTape() as tape:\n",
        "        x_recon, mean, logvar = vae(x)\n",
        "        loss = vae_loss(x, x_recon, mean, logvar)\n",
        "    gradients = tape.gradient(loss, vae.trainable_variables)\n",
        "    optimizer.apply_gradients(zip(gradients, vae.trainable_variables))\n",
        "    return loss\n",
        "\n",
        "for epoch in range(50):\n",
        "    for batch in tf.data.Dataset.from_tensor_slices(X_train_scaled).batch(256):\n",
        "        train_step(batch)\n",
        "\n",
        "vae_recon, _, _ = vae(X_test_scaled)\n",
        "vae_mse = np.mean(np.power(X_test_scaled - vae_recon, 2), axis=1)\n",
        "vae_auc = roc_auc_score(y_test, vae_mse)\n",
        "print(f\"VAE ROC AUC: {vae_auc:.4f}\")"
      ],
      "metadata": {
        "colab": {
          "base_uri": "https://localhost:8080/"
        },
        "id": "B8a4BjqOT-VM",
        "outputId": "d40f0297-472d-48b4-f0c3-90c4fa612307"
      },
      "execution_count": 15,
      "outputs": [
        {
          "output_type": "stream",
          "name": "stdout",
          "text": [
            "Training and evaluating VAE...\n",
            "VAE ROC AUC: 0.9369\n"
          ]
        }
      ]
    },
    {
      "cell_type": "code",
      "source": [
        "import numpy as np\n",
        "import matplotlib.pyplot as plt\n",
        "from sklearn.metrics import roc_curve, auc\n",
        "\n",
        "# Plot ROC curves\n",
        "print(\"Plotting ROC curves...\")\n",
        "def plot_roc_curve(y_true, y_score, label):\n",
        "    fpr, tpr, _ = roc_curve(y_true, y_score)\n",
        "    roc_auc = auc(fpr, tpr)\n",
        "    plt.plot(fpr, tpr, label=f'{label} (AUC = {roc_auc:.2f})')\n",
        "    return roc_auc\n",
        "\n",
        "plt.figure(figsize=(10, 6))\n",
        "autoencoder_auc = plot_roc_curve(y_test, autoencoder_mse, 'Autoencoder')\n",
        "vae_auc = plot_roc_curve(y_test, vae_mse, 'VAE')\n",
        "plt.plot([0, 1], [0, 1], linestyle='--', label='Random (AUC = 0.50)')\n",
        "plt.xlabel('False Positive Rate')\n",
        "plt.ylabel('True Positive Rate')\n",
        "plt.title('ROC Curve: Autoencoder vs VAE for Anomaly Detection')\n",
        "plt.legend()\n",
        "plt.grid(True)\n",
        "plt.show()\n",
        "\n",
        "print(f\"Autoencoder ROC AUC: {autoencoder_auc:.4f}\")\n",
        "print(f\"VAE ROC AUC: {vae_auc:.4f}\")"
      ],
      "metadata": {
        "colab": {
          "base_uri": "https://localhost:8080/",
          "height": 616
        },
        "id": "puMdqJX0UKeh",
        "outputId": "d0b7d6ac-fb57-442b-871c-3fd9af1551c5"
      },
      "execution_count": 17,
      "outputs": [
        {
          "output_type": "stream",
          "name": "stdout",
          "text": [
            "Plotting ROC curves...\n"
          ]
        },
        {
          "output_type": "display_data",
          "data": {
            "text/plain": [
              "<Figure size 1000x600 with 1 Axes>"
            ],
            "image/png": "[encoded data removed]"
          },
          "metadata": {}
        },
        {
          "output_type": "stream",
          "name": "stdout",
          "text": [
            "Autoencoder ROC AUC: 0.9551\n",
            "VAE ROC AUC: 0.9369\n"
          ]
        }
      ]
    },
    {
      "cell_type": "code",
      "source": [],
      "metadata": {
        "id": "D9BLwIOEWLjW"
      },
      "execution_count": null,
      "outputs": []
    }
  ]
}